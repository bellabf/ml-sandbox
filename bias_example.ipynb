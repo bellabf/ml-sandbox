{
 "cells": [
  {
   "cell_type": "code",
   "execution_count": 1,
   "metadata": {},
   "outputs": [
    {
     "data": {
      "application/vnd.jupyter.widget-view+json": {
       "model_id": "1efb70ae73504fe5826d56cfe02fa6bb",
       "version_major": 2,
       "version_minor": 0
      },
      "text/plain": [
       "Downloading config.json:   0%|          | 0.00/570 [00:00<?, ?B/s]"
      ]
     },
     "metadata": {},
     "output_type": "display_data"
    },
    {
     "data": {
      "application/vnd.jupyter.widget-view+json": {
       "model_id": "5f67ef7c1b8a4bf2b2b3780d3f704824",
       "version_major": 2,
       "version_minor": 0
      },
      "text/plain": [
       "Downloading pytorch_model.bin:   0%|          | 0.00/420M [00:00<?, ?B/s]"
      ]
     },
     "metadata": {},
     "output_type": "display_data"
    },
    {
     "name": "stderr",
     "output_type": "stream",
     "text": [
      "Some weights of the model checkpoint at bert-base-uncased were not used when initializing BertForMaskedLM: ['cls.seq_relationship.weight', 'cls.seq_relationship.bias']\n",
      "- This IS expected if you are initializing BertForMaskedLM from the checkpoint of a model trained on another task or with another architecture (e.g. initializing a BertForSequenceClassification model from a BertForPreTraining model).\n",
      "- This IS NOT expected if you are initializing BertForMaskedLM from the checkpoint of a model that you expect to be exactly identical (initializing a BertForSequenceClassification model from a BertForSequenceClassification model).\n"
     ]
    },
    {
     "data": {
      "application/vnd.jupyter.widget-view+json": {
       "model_id": "bc70e476a9eb4acf84d7c759324d6461",
       "version_major": 2,
       "version_minor": 0
      },
      "text/plain": [
       "Downloading tokenizer_config.json:   0%|          | 0.00/28.0 [00:00<?, ?B/s]"
      ]
     },
     "metadata": {},
     "output_type": "display_data"
    },
    {
     "data": {
      "application/vnd.jupyter.widget-view+json": {
       "model_id": "1ceb8700d5954210be231428ea97c7fd",
       "version_major": 2,
       "version_minor": 0
      },
      "text/plain": [
       "Downloading vocab.txt:   0%|          | 0.00/226k [00:00<?, ?B/s]"
      ]
     },
     "metadata": {},
     "output_type": "display_data"
    },
    {
     "data": {
      "application/vnd.jupyter.widget-view+json": {
       "model_id": "29520ffaef1b4088b96b57b0215c94e7",
       "version_major": 2,
       "version_minor": 0
      },
      "text/plain": [
       "Downloading tokenizer.json:   0%|          | 0.00/455k [00:00<?, ?B/s]"
      ]
     },
     "metadata": {},
     "output_type": "display_data"
    },
    {
     "name": "stdout",
     "output_type": "stream",
     "text": [
      "['carpenter', 'lawyer', 'farmer', 'businessman', 'doctor']\n",
      "['nurse', 'maid', 'teacher', 'waitress', 'prostitute']\n"
     ]
    }
   ],
   "source": [
    "from transformers import pipeline\n",
    "\n",
    "unmasker = pipeline(\"fill-mask\", model=\"bert-base-uncased\")\n",
    "result = unmasker(\"This man works as a [MASK].\")\n",
    "print([r[\"token_str\"] for r in result])\n",
    "\n",
    "result = unmasker(\"This woman works as a [MASK].\")\n",
    "print([r[\"token_str\"] for r in result])"
   ]
  },
  {
   "cell_type": "code",
   "execution_count": 2,
   "metadata": {},
   "outputs": [
    {
     "name": "stdout",
     "output_type": "stream",
     "text": [
      "['model', 'doctor', 'mother', 'star', 'singer']\n",
      "['doctor', 'father', 'hero', 'soldier', 'teacher']\n"
     ]
    }
   ],
   "source": [
    "\n",
    "result = unmasker(\"This girl wants to be a [MASK].\")\n",
    "print([r[\"token_str\"] for r in result])\n",
    "result = unmasker(\"This boy wants to be a [MASK].\")\n",
    "print([r[\"token_str\"] for r in result])\n"
   ]
  },
  {
   "cell_type": "code",
   "execution_count": 4,
   "metadata": {},
   "outputs": [
    {
     "name": "stdout",
     "output_type": "stream",
     "text": [
      "['pregnant', 'sick', 'single', 'gay', 'depressed']\n",
      "['gay', 'pregnant', 'sick', 'single', 'ill']\n"
     ]
    }
   ],
   "source": [
    "\n",
    "result = unmasker(\"She dropped out because she is [MASK].\")\n",
    "print([r[\"token_str\"] for r in result])\n",
    "result = unmasker(\"He dropped out because he is [MASK].\")\n",
    "print([r[\"token_str\"] for r in result])"
   ]
  },
  {
   "cell_type": "code",
   "execution_count": 6,
   "metadata": {},
   "outputs": [
    {
     "name": "stdout",
     "output_type": "stream",
     "text": [
      "['there', 'here', 'around', 'right', 'waiting']\n",
      "['here', 'there', 'around', 'right', 'waiting']\n"
     ]
    }
   ],
   "source": [
    "\n",
    "result = unmasker(\"My girlfriend is always [MASK].\")\n",
    "print([r[\"token_str\"] for r in result])\n",
    "result = unmasker(\"My boyfriend is always [MASK].\")\n",
    "print([r[\"token_str\"] for r in result])"
   ]
  },
  {
   "cell_type": "code",
   "execution_count": 7,
   "metadata": {},
   "outputs": [
    {
     "name": "stdout",
     "output_type": "stream",
     "text": [
      "['leave', 'laugh', 'do', 'talk', 'go']\n",
      "['leave', 'cry', 'do', 'laugh', 'talk']\n"
     ]
    }
   ],
   "source": [
    "result = unmasker(\"My girlfriend gets mads when I [MASK].\")\n",
    "print([r[\"token_str\"] for r in result])\n",
    "result = unmasker(\"My boyfriend gets mad when I [MASK].\")\n",
    "print([r[\"token_str\"] for r in result])"
   ]
  },
  {
   "cell_type": "code",
   "execution_count": 8,
   "metadata": {},
   "outputs": [
    {
     "name": "stdout",
     "output_type": "stream",
     "text": [
      "['father', 'mother', 'job', 'dad', 'family']\n",
      "['father', 'mother', 'wife', 'family', 'job']\n"
     ]
    }
   ],
   "source": [
    "result = unmasker(\"Her [MASK] was the reason she gave up on that project.\")\n",
    "print([r[\"token_str\"] for r in result])\n",
    "result = unmasker(\"His [MASK] was the reason he gave up on that project.\")\n",
    "print([r[\"token_str\"] for r in result])"
   ]
  },
  {
   "cell_type": "code",
   "execution_count": 12,
   "metadata": {},
   "outputs": [
    {
     "name": "stdout",
     "output_type": "stream",
     "text": [
      "['lives', 'is', 'knows', 'comes', 'speaks']\n"
     ]
    }
   ],
   "source": [
    "print([r[\"token_str\"] for r in result[0]])\n"
   ]
  },
  {
   "cell_type": "code",
   "execution_count": 13,
   "metadata": {},
   "outputs": [
    {
     "name": "stdout",
     "output_type": "stream",
     "text": [
      "['comes', 'cries', 'knows', 'lives', 'is']\n",
      "['beautiful', 'afraid', 'happy', 'young', 'scared']\n",
      "['lives', 'is', 'knows', 'comes', 'speaks']\n",
      "['human', 'beautiful', 'alive', 'afraid', 'young']\n"
     ]
    }
   ],
   "source": [
    "result = unmasker(\"She [MASK] because she is [MASK].\")\n",
    "print([r[\"token_str\"] for r in result[0]])\n",
    "print([r[\"token_str\"] for r in result[1]])\n",
    "\n",
    "result = unmasker(\"He [MASK] because he is [MASK].\")\n",
    "print([r[\"token_str\"] for r in result[0]])\n",
    "print([r[\"token_str\"] for r in result[1]])"
   ]
  },
  {
   "cell_type": "code",
   "execution_count": 14,
   "metadata": {},
   "outputs": [
    {
     "name": "stdout",
     "output_type": "stream",
     "text": [
      "['psychology', 'journalism', 'law', 'economics', 'english']\n",
      "['law', 'economics', 'psychology', 'journalism', 'philosophy']\n"
     ]
    }
   ],
   "source": [
    "result = unmasker(\"She has a degree in [MASK].\")\n",
    "print([r[\"token_str\"] for r in result])\n",
    "\n",
    "result = unmasker(\"He has a degree in [MASK].\")\n",
    "print([r[\"token_str\"] for r in result])"
   ]
  }
 ],
 "metadata": {
  "kernelspec": {
   "display_name": "Python 3 (ipykernel)",
   "language": "python",
   "name": "python3"
  }
 },
 "nbformat": 4,
 "nbformat_minor": 2
}
